{
  "nbformat": 4,
  "nbformat_minor": 0,
  "metadata": {
    "colab": {
      "provenance": []
    },
    "kernelspec": {
      "name": "python3",
      "display_name": "Python 3"
    },
    "language_info": {
      "name": "python"
    }
  },
  "cells": [
    {
      "cell_type": "code",
      "execution_count": null,
      "metadata": {
        "id": "CUgGFYnME_85"
      },
      "outputs": [],
      "source": [
        "import math\n",
        "def basic_sigmoid(x):\n",
        "  s=1/(1+math.exp(-x))\n",
        "  return s\n",
        "\n"
      ]
    },
    {
      "cell_type": "code",
      "source": [
        "basic_sigmoid(-1)"
      ],
      "metadata": {
        "colab": {
          "base_uri": "https://localhost:8080/"
        },
        "id": "CvrUb2yKGR2o",
        "outputId": "3de12d50-b4ce-401b-b1e6-75c6e3158371"
      },
      "execution_count": null,
      "outputs": [
        {
          "output_type": "execute_result",
          "data": {
            "text/plain": [
              "0.2689414213699951"
            ]
          },
          "metadata": {},
          "execution_count": 2
        }
      ]
    },
    {
      "cell_type": "markdown",
      "source": [
        "vector"
      ],
      "metadata": {
        "id": "UBO5teWoGlBS"
      }
    },
    {
      "cell_type": "code",
      "source": [
        "import numpy as np\n",
        "x=np.array([1,2,3])\n",
        "print(np.exp(x))"
      ],
      "metadata": {
        "colab": {
          "base_uri": "https://localhost:8080/"
        },
        "id": "SdEW_vdTGm2x",
        "outputId": "c68fefa0-1f59-438b-cb19-02b29a1c3e19"
      },
      "execution_count": null,
      "outputs": [
        {
          "output_type": "stream",
          "name": "stdout",
          "text": [
            "[ 2.71828183  7.3890561  20.08553692]\n"
          ]
        }
      ]
    },
    {
      "cell_type": "code",
      "source": [
        "x= np.array([1,2,3])\n",
        "print(x+3)"
      ],
      "metadata": {
        "colab": {
          "base_uri": "https://localhost:8080/"
        },
        "id": "UXgAIw5eHfBW",
        "outputId": "9612055d-cd19-4f80-f66c-14705fb9764f"
      },
      "execution_count": null,
      "outputs": [
        {
          "output_type": "stream",
          "name": "stdout",
          "text": [
            "[4 5 6]\n"
          ]
        }
      ]
    },
    {
      "cell_type": "code",
      "source": [
        "basic_sigmoid(x)"
      ],
      "metadata": {
        "colab": {
          "base_uri": "https://localhost:8080/"
        },
        "id": "0qXs9XYVHxWt",
        "outputId": "66445d5d-7bda-4cb1-cf3f-191b1c957ad3"
      },
      "execution_count": null,
      "outputs": [
        {
          "output_type": "execute_result",
          "data": {
            "text/plain": [
              "array([0.73105858, 0.88079708, 0.95257413])"
            ]
          },
          "metadata": {},
          "execution_count": 10
        }
      ]
    },
    {
      "cell_type": "markdown",
      "source": [
        "numpy instead of math"
      ],
      "metadata": {
        "id": "26G7EcWWIK0E"
      }
    },
    {
      "cell_type": "code",
      "source": [
        "import math\n",
        "def basic_sigmoid(x):\n",
        "  s=1/(1+np.exp(-x))\n",
        "  return s\n",
        "basic_sigmoid(-1)"
      ],
      "metadata": {
        "colab": {
          "base_uri": "https://localhost:8080/"
        },
        "id": "wzYqJO-XGzVB",
        "outputId": "d300e118-86ff-4802-a129-046dbc324706"
      },
      "execution_count": null,
      "outputs": [
        {
          "output_type": "execute_result",
          "data": {
            "text/plain": [
              "0.2689414213699951"
            ]
          },
          "metadata": {},
          "execution_count": 6
        }
      ]
    },
    {
      "cell_type": "markdown",
      "source": [
        "sigmoid gradient"
      ],
      "metadata": {
        "id": "C5UkpIoKJLM_"
      }
    },
    {
      "cell_type": "code",
      "source": [
        "def sigmoid_derivative(x):\n",
        "  s=1/(1+np.exp(-x))\n",
        "  ds=s*(1-s)\n",
        "  return ds\n",
        "  return ds"
      ],
      "metadata": {
        "id": "oCzqBws3JKIL"
      },
      "execution_count": null,
      "outputs": []
    },
    {
      "cell_type": "code",
      "source": [
        "x=np.array([1,2,3])\n",
        "print(\"sigmoid_derivative(x)=\"+str(sigmoid_derivative(x)))"
      ],
      "metadata": {
        "colab": {
          "base_uri": "https://localhost:8080/"
        },
        "id": "SIq6VgiaJsDR",
        "outputId": "24f3f27f-d7a8-4cf2-e6fe-3a0e6087ba79"
      },
      "execution_count": null,
      "outputs": [
        {
          "output_type": "stream",
          "name": "stdout",
          "text": [
            "sigmoid_derivative(x)=[0.19661193 0.10499359 0.04517666]\n"
          ]
        }
      ]
    },
    {
      "cell_type": "markdown",
      "source": [
        "Reshaping arrays"
      ],
      "metadata": {
        "id": "EnHleE4BKDMV"
      }
    },
    {
      "cell_type": "code",
      "source": [
        "def image2vector(image):\n",
        "  v=image.reshape((image.shape[0]*image.shape[1]*image.shape[2],1))\n",
        "  return v"
      ],
      "metadata": {
        "id": "NwHTKM3WKCyQ"
      },
      "execution_count": null,
      "outputs": []
    },
    {
      "cell_type": "code",
      "source": [
        "image=np.array([[[0.67826139,0.29380381],[0.90714982,0.52835647],[0.4215251,0.45017551]],\n",
        "                [[0.92814219,0.96677647],[0.85304703,0.52351845],[0.19981397,0.27417313]],\n",
        "                [[0.60659855,0.00533165],[0.10820313,0.499789337],[0.34144279,0.94630077]]])\n",
        "print(\"image2vector(image)=\"+str(image2vector(image)))"
      ],
      "metadata": {
        "colab": {
          "base_uri": "https://localhost:8080/"
        },
        "id": "36z5oCskLQfR",
        "outputId": "0cdd6111-ec88-425e-a3cb-2b19d478e73d"
      },
      "execution_count": null,
      "outputs": [
        {
          "output_type": "stream",
          "name": "stdout",
          "text": [
            "image2vector(image)=[[0.67826139]\n",
            " [0.29380381]\n",
            " [0.90714982]\n",
            " [0.52835647]\n",
            " [0.4215251 ]\n",
            " [0.45017551]\n",
            " [0.92814219]\n",
            " [0.96677647]\n",
            " [0.85304703]\n",
            " [0.52351845]\n",
            " [0.19981397]\n",
            " [0.27417313]\n",
            " [0.60659855]\n",
            " [0.00533165]\n",
            " [0.10820313]\n",
            " [0.49978934]\n",
            " [0.34144279]\n",
            " [0.94630077]]\n"
          ]
        }
      ]
    },
    {
      "cell_type": "markdown",
      "source": [
        "normalising rows"
      ],
      "metadata": {
        "id": "vdMpep4NOHVV"
      }
    },
    {
      "cell_type": "code",
      "source": [
        "def normalizeRows(x):\n",
        "  x_norm=np.linalg.norm(x,axis=1,keepdims=True)\n",
        "  x=x/x_norm\n",
        "  return x"
      ],
      "metadata": {
        "id": "GmwwK21kOJkg"
      },
      "execution_count": null,
      "outputs": []
    },
    {
      "cell_type": "code",
      "source": [
        "x=np.array([[0,1000,4],[2,6,4]])\n",
        "print(\"normalizeRows(x)=\"+str(normalizeRows(x)))"
      ],
      "metadata": {
        "colab": {
          "base_uri": "https://localhost:8080/"
        },
        "id": "EdoBh1PjPn7Z",
        "outputId": "5a1c91ca-03d9-4898-8f34-9be5c31a172c"
      },
      "execution_count": null,
      "outputs": [
        {
          "output_type": "stream",
          "name": "stdout",
          "text": [
            "normalizeRows(x)=[[0.         0.999992   0.00399997]\n",
            " [0.26726124 0.80178373 0.53452248]]\n"
          ]
        }
      ]
    },
    {
      "cell_type": "markdown",
      "source": [
        "Broadcasting and softmax function"
      ],
      "metadata": {
        "id": "O3XVQU3AQyVm"
      }
    },
    {
      "cell_type": "code",
      "source": [
        "def softmax(x):\n",
        "  x_exp=np.exp(x)\n",
        "  x_sum=np.sum(x_exp,axis=1,keepdims=True)\n",
        "  s=x_exp/x_sum\n",
        "  return s"
      ],
      "metadata": {
        "id": "-1PqBP1dQAP9"
      },
      "execution_count": null,
      "outputs": []
    },
    {
      "cell_type": "code",
      "source": [
        "x=np.array([[9,2,5,0,0],[7,5,0,0,0]])\n",
        "print(\"softmax(x)=\"+str(softmax(x)))"
      ],
      "metadata": {
        "colab": {
          "base_uri": "https://localhost:8080/"
        },
        "id": "LF-OdDvZRbRp",
        "outputId": "f97f0e0f-ecc0-43e2-a677-dc43ee5fc475"
      },
      "execution_count": null,
      "outputs": [
        {
          "output_type": "stream",
          "name": "stdout",
          "text": [
            "softmax(x)=[[9.80897665e-01 8.94462891e-04 1.79657674e-02 1.21052389e-04\n",
            "  1.21052389e-04]\n",
            " [8.78679856e-01 1.18916387e-01 8.01252314e-04 8.01252314e-04\n",
            "  8.01252314e-04]]\n"
          ]
        }
      ]
    },
    {
      "cell_type": "markdown",
      "source": [
        "Vectorization"
      ],
      "metadata": {
        "id": "16FQFPnmSlRx"
      }
    },
    {
      "cell_type": "code",
      "source": [
        "import time\n",
        "x1=[9,2,5,0,0,7,5,0,0,0,9,2,5,0,0]\n",
        "x2=[9,2,2,9,0,9,2,5,0,0,9,2,5,0,0]\n",
        "tic=time.process_time()\n",
        "dot=0\n",
        "for i in range(len(x1)):\n",
        "  dot+=x1[i]*x2[i]\n",
        "toc=time.process_time()\n",
        "print(\"dot=\"+str(dot)+\"---computation time=\"+str(1000*(toc-tic))+\"ms\")\n",
        "\n",
        "\n"
      ],
      "metadata": {
        "colab": {
          "base_uri": "https://localhost:8080/"
        },
        "id": "pp-85za5Spd8",
        "outputId": "22ef45b5-cf3c-4061-a65f-01a3d977e874"
      },
      "execution_count": 28,
      "outputs": [
        {
          "output_type": "stream",
          "name": "stdout",
          "text": [
            "dot=278---computation time=0.1766210000013757ms\n"
          ]
        }
      ]
    },
    {
      "cell_type": "code",
      "source": [
        "x1=[9,2,5,0,0,7,5,0,0,0,9,2,5,0,0]\n",
        "x2=[9,2,2,9,0,9,2,5,0,0,9,2,5,0,0]\n",
        "\n",
        "#vextorized dot product\n",
        "tic=time.process_time()\n",
        "dot=np.dot(x1,x2)\n",
        "toc=time.process_time()\n",
        "print(\"dot=\"+str(dot)+\"---computation time=\"+str(1000*(toc-tic))+\"ms\")\n"
      ],
      "metadata": {
        "colab": {
          "base_uri": "https://localhost:8080/"
        },
        "id": "VE5gQO2WURr_",
        "outputId": "5854095f-6894-4571-b9a5-1075f189844c"
      },
      "execution_count": 29,
      "outputs": [
        {
          "output_type": "stream",
          "name": "stdout",
          "text": [
            "dot=278---computation time=0.25090000000105306ms\n"
          ]
        }
      ]
    },
    {
      "cell_type": "markdown",
      "source": [
        "implement l1 and l2 loss function"
      ],
      "metadata": {
        "id": "k6EMQII5VNFo"
      }
    },
    {
      "cell_type": "code",
      "source": [
        "def L1(yhat,y):\n",
        "  loss=np.sum(np.abs(y-yhat))\n",
        "  return loss"
      ],
      "metadata": {
        "id": "6vZI4s7sVMzG"
      },
      "execution_count": null,
      "outputs": []
    },
    {
      "cell_type": "code",
      "source": [
        "yhat=np.array([1,1,1,1,1])\n",
        "y=np.array([1,1,1,1,1])\n",
        "print(\"L1=\"+str(L1(yhat,y)))"
      ],
      "metadata": {
        "colab": {
          "base_uri": "https://localhost:8080/"
        },
        "id": "9Mac1C9nVa2Y",
        "outputId": "21f3d404-b9dc-4c91-b3b9-924ecb6cc9ed"
      },
      "execution_count": null,
      "outputs": [
        {
          "output_type": "stream",
          "name": "stdout",
          "text": [
            "L1=0\n"
          ]
        }
      ]
    },
    {
      "cell_type": "code",
      "source": [
        "\n",
        "#classic outer product implementation\n",
        "tic=time.process_time()\n",
        "outer=np.zeros((len(x1),len(x2)))\n",
        "for i in range(len(x1)):\n",
        "  for j in range(len(x2)):\n",
        "    outer[i,j]=x1[i]*x2[j]\n",
        "    toc=time.process_time()\n",
        "print(\"outer=\"+str(outer)+\"---computation time=\"+str(1000*(toc-tic))+\"ms\")\n",
        "#classic elementwise implementation\n",
        "tic=time.process_time()\n",
        "mul=np.zeros(len(x1))\n",
        "for i in range(len(x1)):\n",
        "  mul[i]=x1[i]*x2[i]\n",
        "  toc=time.process_time()\n",
        "  print(\"mul=\"+str(mul)+\"---computation time=\"+str(1000*(toc-tic))+\"ms\")"
      ],
      "metadata": {
        "id": "W7qCNpfNbKmx"
      },
      "execution_count": null,
      "outputs": []
    },
    {
      "cell_type": "code",
      "source": [
        "#vexorized outer product\n",
        "tic=time.process_time()\n",
        "outer=np.outer(x1,x2)\n",
        "toc=time.process_time()\n",
        "print(\"outer=\"+str(outer)+\"---computation time=\"+str(1000*(toc-tic))+\"ms\")\n",
        "#vectorized elementwise multiplication\n",
        "tic=time.process_time()\n",
        "mul=np.multiply(x1,x2)\n",
        "toc=time.process_time()\n",
        "print(\"mul=\"+str(mul)+\"---computation time=\"+str(1000*(toc-tic))+\"ms\")"
      ],
      "metadata": {
        "id": "4R0VnMNnbP-W"
      },
      "execution_count": null,
      "outputs": []
    }
  ]
}